{
 "cells": [
  {
   "cell_type": "markdown",
   "id": "f8d11dbf",
   "metadata": {},
   "source": [
    "# US Senators - Data Cleaning and Manipulation"
   ]
  },
  {
   "cell_type": "markdown",
   "id": "fd62d345",
   "metadata": {},
   "source": [
    "For this lab, we will be using a dataset containing information for current sitting US Senators, and will be asked to complete the following tasks.\n",
    "\n",
    "1. Import pandas using the standard alias.\n",
    "2. Import a csv file.\n",
    "2. Reformat Columns Names.\n",
    "3. Merge two string columns.\n",
    "4. Drop a column. \n",
    "5. Clean a string column, and convert to integer.\n",
    "6. Use the .map method.\n",
    "7. Use the .apply method.\n",
    "8. Use the .groupby method.\n",
    "9. Generate a new column using two string columns.\n",
    "10. Find the most common occupation amongst U.S. Senators."
   ]
  },
  {
   "cell_type": "markdown",
   "id": "0612fda3",
   "metadata": {},
   "source": [
    "##  Task 1 - Import pandas using the standard alias.\n",
    "\n",
    "In the cell below, import pandas as pd"
   ]
  },
  {
   "cell_type": "code",
   "execution_count": 1,
   "id": "db404784",
   "metadata": {
    "ExecuteTime": {
     "end_time": "2021-05-28T18:02:47.394680Z",
     "start_time": "2021-05-28T18:02:46.786901Z"
    }
   },
   "outputs": [],
   "source": [
    "import pandas as pd"
   ]
  },
  {
   "cell_type": "markdown",
   "id": "475fbff2",
   "metadata": {},
   "source": [
    "## Task 2 - Import a csv file.\n",
    "\n",
    "A CSV file called `senate_2021.csv` is located in the `data/` folder in this repository. \n",
    "\n",
    "In the cell below, import the csv file and assign the variable to `df`."
   ]
  },
  {
   "cell_type": "code",
   "execution_count": 85,
   "id": "fe55ccf1",
   "metadata": {
    "ExecuteTime": {
     "end_time": "2021-05-28T19:28:46.885579Z",
     "start_time": "2021-05-28T19:28:46.878917Z"
    }
   },
   "outputs": [],
   "source": [
    "df = pd.read_csv('data/senate_2021.csv')"
   ]
  },
  {
   "cell_type": "markdown",
   "id": "f4ef42a3",
   "metadata": {},
   "source": [
    "## Task 3 - Reformat Columns Names.\n",
    "\n",
    "In the cell below, reformat the columns by removing all spaces and converting the strings to lowercase."
   ]
  },
  {
   "cell_type": "code",
   "execution_count": 89,
   "id": "bcdb27f7",
   "metadata": {
    "ExecuteTime": {
     "end_time": "2021-05-28T19:32:40.349720Z",
     "start_time": "2021-05-28T19:32:40.347679Z"
    }
   },
   "outputs": [],
   "source": [
    "# Your code here"
   ]
  },
  {
   "cell_type": "markdown",
   "id": "829545e3",
   "metadata": {},
   "source": [
    "## Task 4 - Merge two string columns.\n",
    "\n",
    "In the cell below add a new column to the dataframe called `full_name` that contains both the first and last names  for a given senator. "
   ]
  },
  {
   "cell_type": "code",
   "execution_count": null,
   "id": "3af461cb",
   "metadata": {},
   "outputs": [],
   "source": [
    "# Your code here"
   ]
  },
  {
   "cell_type": "markdown",
   "id": "4426fb3c",
   "metadata": {},
   "source": [
    "## Task 5 - Drop a column.\n",
    "\n",
    "The portrait column contains majority null values. Drop this column from the dataframe."
   ]
  },
  {
   "cell_type": "code",
   "execution_count": null,
   "id": "82f82984",
   "metadata": {},
   "outputs": [],
   "source": [
    "# Your code here"
   ]
  },
  {
   "cell_type": "markdown",
   "id": "2ab4af18",
   "metadata": {},
   "source": [
    "## Task 6 - Clean a string column, and convert to integer.\n",
    "\n",
    "Convert the `pop_2019` to integer."
   ]
  },
  {
   "cell_type": "code",
   "execution_count": null,
   "id": "34089ebc",
   "metadata": {},
   "outputs": [],
   "source": [
    "# Your code here"
   ]
  },
  {
   "cell_type": "markdown",
   "id": "d4591e58",
   "metadata": {},
   "source": [
    "## Task 7 - Use the .map method.\n",
    "\n",
    "In the cell below, a dictionary has been provided mapping the names of a state to their region. Using the `.map` method create a new column called `region` that details the region each senator represent.s"
   ]
  },
  {
   "cell_type": "code",
   "execution_count": 81,
   "id": "ef1e2fd4",
   "metadata": {
    "ExecuteTime": {
     "end_time": "2021-05-28T19:14:26.819077Z",
     "start_time": "2021-05-28T19:14:26.813504Z"
    }
   },
   "outputs": [],
   "source": [
    "areas = {'California': 'Far West',\n",
    "         'Hawaii': 'Far West',\n",
    "         'Nevada': 'Far West',\n",
    "         'Illinois': 'Great Lakes',\n",
    "         'Indiana': 'Great Lakes',\n",
    "         'Michigan': 'Great Lakes',\n",
    "         'Minnesota': 'Great Lakes',\n",
    "         'Ohio': 'Great Lakes',\n",
    "         'Wisconsin': 'Great Lakes',\n",
    "         'Delaware': 'Midsouth',\n",
    "         'District of Columbia': 'Midsouth',\n",
    "         'Kentucky': 'Midsouth',\n",
    "         'Maryland': 'Midsouth',\n",
    "         'North Carolina': 'Midsouth',\n",
    "         'Tennessee': 'Midsouth',\n",
    "         'Virginia': 'Midsouth',\n",
    "         'West Virginia': 'Midsouth',\n",
    "         'Iowa, Kansas': 'Midwest',\n",
    "         'Missouri': 'Midwest',\n",
    "         'Nebraska': 'Midwest',\n",
    "         'North Dakota': 'Midwest',\n",
    "         'South Dakota': 'Midwest',\n",
    "         'Arizona': 'Mountain West',\n",
    "         'Colorado': 'Mountain West',\n",
    "         'Idaho': 'Mountain West',\n",
    "         'Montana': 'Mountain West',\n",
    "         'New Mexico': 'Mountain West',\n",
    "         'Utah': 'Mountain West',\n",
    "         'Wyoming': 'Mountain West',\n",
    "         'Connecticut': 'New England',\n",
    "         'Maine': 'New England',\n",
    "         'Massachusetts': 'New England',\n",
    "         'New Hampshire': 'New England',\n",
    "         'Rhode Island': 'New England',\n",
    "         'Vermont': 'New England',\n",
    "         'New Jersey': 'Northeast',\n",
    "         'New York': 'Northeast',\n",
    "         'Pennsylvania': 'Northeast',\n",
    "         'Oregon': 'Northwest',\n",
    "         'Washington': 'Northwest',\n",
    "         'Arkansas': 'South Central',\n",
    "         'Louisiana': 'South Central',\n",
    "         'Oklahoma': 'South Central',\n",
    "         'Texas': 'South Central',\n",
    "         'Alabama': 'Southeast',\n",
    "         'Florida': 'Southeast',\n",
    "         'Georgia': 'Southeast',\n",
    "         'Mississippi': 'Southeast',\n",
    "         'South Carolina': 'Southeast',\n",
    "         'Puerto Rico': 'Southeast',\n",
    "         'Alaska': 'Northwest'}"
   ]
  },
  {
   "cell_type": "markdown",
   "id": "1e57ecef",
   "metadata": {},
   "source": [
    "## 8 - Use the .apply method.\n",
    "\n",
    "Using the .apply method, create a new column called `reelection` that contains a 1 if a senator is up for reelection in 2022 (Term Up), and a 0 if they are not."
   ]
  },
  {
   "cell_type": "code",
   "execution_count": 6,
   "id": "bb3ac644",
   "metadata": {
    "ExecuteTime": {
     "end_time": "2021-05-28T18:06:08.782013Z",
     "start_time": "2021-05-28T18:06:08.778457Z"
    }
   },
   "outputs": [],
   "source": [
    "# Your code here"
   ]
  },
  {
   "cell_type": "markdown",
   "id": "86821356",
   "metadata": {},
   "source": [
    "## 9 - Use the .groupby method.\n",
    "\n",
    "In the cell below, use the `.groupby` method to calculate the average population size according to political party."
   ]
  },
  {
   "cell_type": "code",
   "execution_count": 90,
   "id": "cf8614e1",
   "metadata": {
    "ExecuteTime": {
     "end_time": "2021-05-28T19:47:23.980377Z",
     "start_time": "2021-05-28T19:47:23.978333Z"
    }
   },
   "outputs": [],
   "source": [
    "# Your code here"
   ]
  },
  {
   "cell_type": "markdown",
   "id": "f2e0df7a",
   "metadata": {},
   "source": [
    "## 10 - Generate a new column using two string columns.\n",
    "\n",
    "In the cell below, create a new column called `senator_initials` that contains the senators first and last initials formatted as `'{first initial}.{second initial}'`."
   ]
  },
  {
   "cell_type": "code",
   "execution_count": 17,
   "id": "0698e3e2",
   "metadata": {
    "ExecuteTime": {
     "end_time": "2021-05-28T18:12:21.440582Z",
     "start_time": "2021-05-28T18:12:21.437269Z"
    }
   },
   "outputs": [],
   "source": [
    "# Your code here"
   ]
  },
  {
   "cell_type": "markdown",
   "id": "58a680c0",
   "metadata": {},
   "source": [
    "## 11 - Find how many years have passed between when a senator was born and when they were first elected."
   ]
  },
  {
   "cell_type": "code",
   "execution_count": null,
   "id": "1fa9f425",
   "metadata": {},
   "outputs": [],
   "source": [
    "# Your code here"
   ]
  },
  {
   "cell_type": "markdown",
   "id": "f0f45b7d",
   "metadata": {},
   "source": [
    "## 11 - Find the most common occupation amongst U.S. Senators.\n",
    "\n",
    "In the cell below, count the frequency of each occupation in the `occupation` columns, and set the most common occupation to the variable `most_common_job`."
   ]
  },
  {
   "cell_type": "code",
   "execution_count": null,
   "id": "775fcdb2",
   "metadata": {},
   "outputs": [],
   "source": [
    "# Your code here"
   ]
  },
  {
   "cell_type": "code",
   "execution_count": null,
   "id": "440b38b8",
   "metadata": {},
   "outputs": [],
   "source": []
  }
 ],
 "metadata": {
  "kernelspec": {
   "display_name": "Python 3",
   "language": "python",
   "name": "python3"
  },
  "language_info": {
   "codemirror_mode": {
    "name": "ipython",
    "version": 3
   },
   "file_extension": ".py",
   "mimetype": "text/x-python",
   "name": "python",
   "nbconvert_exporter": "python",
   "pygments_lexer": "ipython3",
   "version": "3.7.4"
  },
  "toc": {
   "base_numbering": 1,
   "nav_menu": {},
   "number_sections": false,
   "sideBar": true,
   "skip_h1_title": false,
   "title_cell": "Table of Contents",
   "title_sidebar": "Contents",
   "toc_cell": false,
   "toc_position": {},
   "toc_section_display": true,
   "toc_window_display": false
  }
 },
 "nbformat": 4,
 "nbformat_minor": 5
}
